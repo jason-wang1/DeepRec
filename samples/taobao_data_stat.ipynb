{
 "cells": [
  {
   "cell_type": "markdown",
   "source": [
    "# 样本统计\n"
   ],
   "metadata": {
    "collapsed": false
   }
  },
  {
   "cell_type": "code",
   "execution_count": 1,
   "outputs": [],
   "source": [
    "import pandas as pd"
   ],
   "metadata": {
    "collapsed": false,
    "pycharm": {
     "name": "#%%\n"
    }
   }
  },
  {
   "cell_type": "markdown",
   "source": [
    "## 原始样本骨架\n"
   ],
   "metadata": {
    "collapsed": false,
    "pycharm": {
     "name": "#%% md\n"
    }
   }
  },
  {
   "cell_type": "code",
   "execution_count": 2,
   "outputs": [
    {
     "data": {
      "text/plain": "     user  time_stamp  adgroup_id          pid  nonclk  clk\n0  581738  1494137644           1  430548_1007       1    0\n1  449818  1494638778           3  430548_1007       1    0\n2  914836  1494650879           4  430548_1007       1    0\n3  914836  1494651029           5  430548_1007       1    0\n4  399907  1494302958           8  430548_1007       1    0",
      "text/html": "<div>\n<style scoped>\n    .dataframe tbody tr th:only-of-type {\n        vertical-align: middle;\n    }\n\n    .dataframe tbody tr th {\n        vertical-align: top;\n    }\n\n    .dataframe thead th {\n        text-align: right;\n    }\n</style>\n<table border=\"1\" class=\"dataframe\">\n  <thead>\n    <tr style=\"text-align: right;\">\n      <th></th>\n      <th>user</th>\n      <th>time_stamp</th>\n      <th>adgroup_id</th>\n      <th>pid</th>\n      <th>nonclk</th>\n      <th>clk</th>\n    </tr>\n  </thead>\n  <tbody>\n    <tr>\n      <th>0</th>\n      <td>581738</td>\n      <td>1494137644</td>\n      <td>1</td>\n      <td>430548_1007</td>\n      <td>1</td>\n      <td>0</td>\n    </tr>\n    <tr>\n      <th>1</th>\n      <td>449818</td>\n      <td>1494638778</td>\n      <td>3</td>\n      <td>430548_1007</td>\n      <td>1</td>\n      <td>0</td>\n    </tr>\n    <tr>\n      <th>2</th>\n      <td>914836</td>\n      <td>1494650879</td>\n      <td>4</td>\n      <td>430548_1007</td>\n      <td>1</td>\n      <td>0</td>\n    </tr>\n    <tr>\n      <th>3</th>\n      <td>914836</td>\n      <td>1494651029</td>\n      <td>5</td>\n      <td>430548_1007</td>\n      <td>1</td>\n      <td>0</td>\n    </tr>\n    <tr>\n      <th>4</th>\n      <td>399907</td>\n      <td>1494302958</td>\n      <td>8</td>\n      <td>430548_1007</td>\n      <td>1</td>\n      <td>0</td>\n    </tr>\n  </tbody>\n</table>\n</div>"
     },
     "execution_count": 2,
     "metadata": {},
     "output_type": "execute_result"
    }
   ],
   "source": [
    "sample_df = pd.read_csv(\"C:\\\\data\\\\taobao_data\\\\raw_sample.csv\", iterator=True)\n",
    "sample_df.read(5)"
   ],
   "metadata": {
    "collapsed": false,
    "pycharm": {
     "name": "#%%\n"
    }
   }
  },
  {
   "cell_type": "code",
   "execution_count": 3,
   "outputs": [
    {
     "data": {
      "text/plain": "user           int64\ntime_stamp     int64\nadgroup_id     int64\npid           object\nnonclk         int64\nclk            int64\ndtype: object"
     },
     "execution_count": 3,
     "metadata": {},
     "output_type": "execute_result"
    }
   ],
   "source": [
    "sample_df.read(5).dtypes"
   ],
   "metadata": {
    "collapsed": false,
    "pycharm": {
     "name": "#%%\n"
    }
   }
  },
  {
   "cell_type": "markdown",
   "source": [
    "## 广告特征"
   ],
   "metadata": {
    "collapsed": false,
    "pycharm": {
     "name": "#%% md\n"
    }
   }
  },
  {
   "cell_type": "code",
   "execution_count": 4,
   "outputs": [],
   "source": [
    "ad_feat_df = pd.read_csv(\"C:\\\\data\\\\taobao_data\\\\ad_feature.csv\")"
   ],
   "metadata": {
    "collapsed": false,
    "pycharm": {
     "name": "#%%\n"
    }
   }
  },
  {
   "cell_type": "code",
   "execution_count": 5,
   "outputs": [
    {
     "data": {
      "text/plain": "          adgroup_id        cate_id    campaign_id       customer  \\\ncount  846811.000000  846811.000000  846811.000000  846811.000000   \nmean   423406.000000    5868.593464  206552.604280  113180.406006   \nstd    244453.423738    2705.171203  125192.340908   73435.834950   \nmin         1.000000       1.000000       1.000000       1.000000   \n25%    211703.500000    4383.000000   97583.000000   47960.000000   \n50%    423406.000000    6183.000000  200780.000000  107278.000000   \n75%    635108.500000    7047.000000  314565.500000  172013.500000   \nmax    846811.000000   12960.000000  423436.000000  255875.000000   \n\n               brand         price  \ncount  600481.000000  8.468110e+05  \nmean   229254.422596  1.838867e+03  \nstd    132288.849633  3.108877e+05  \nmin         2.000000  1.000000e-02  \n25%    110616.000000  4.900000e+01  \n50%    234423.000000  1.390000e+02  \n75%    344818.000000  3.520000e+02  \nmax    461497.000000  1.000000e+08  ",
      "text/html": "<div>\n<style scoped>\n    .dataframe tbody tr th:only-of-type {\n        vertical-align: middle;\n    }\n\n    .dataframe tbody tr th {\n        vertical-align: top;\n    }\n\n    .dataframe thead th {\n        text-align: right;\n    }\n</style>\n<table border=\"1\" class=\"dataframe\">\n  <thead>\n    <tr style=\"text-align: right;\">\n      <th></th>\n      <th>adgroup_id</th>\n      <th>cate_id</th>\n      <th>campaign_id</th>\n      <th>customer</th>\n      <th>brand</th>\n      <th>price</th>\n    </tr>\n  </thead>\n  <tbody>\n    <tr>\n      <th>count</th>\n      <td>846811.000000</td>\n      <td>846811.000000</td>\n      <td>846811.000000</td>\n      <td>846811.000000</td>\n      <td>600481.000000</td>\n      <td>8.468110e+05</td>\n    </tr>\n    <tr>\n      <th>mean</th>\n      <td>423406.000000</td>\n      <td>5868.593464</td>\n      <td>206552.604280</td>\n      <td>113180.406006</td>\n      <td>229254.422596</td>\n      <td>1.838867e+03</td>\n    </tr>\n    <tr>\n      <th>std</th>\n      <td>244453.423738</td>\n      <td>2705.171203</td>\n      <td>125192.340908</td>\n      <td>73435.834950</td>\n      <td>132288.849633</td>\n      <td>3.108877e+05</td>\n    </tr>\n    <tr>\n      <th>min</th>\n      <td>1.000000</td>\n      <td>1.000000</td>\n      <td>1.000000</td>\n      <td>1.000000</td>\n      <td>2.000000</td>\n      <td>1.000000e-02</td>\n    </tr>\n    <tr>\n      <th>25%</th>\n      <td>211703.500000</td>\n      <td>4383.000000</td>\n      <td>97583.000000</td>\n      <td>47960.000000</td>\n      <td>110616.000000</td>\n      <td>4.900000e+01</td>\n    </tr>\n    <tr>\n      <th>50%</th>\n      <td>423406.000000</td>\n      <td>6183.000000</td>\n      <td>200780.000000</td>\n      <td>107278.000000</td>\n      <td>234423.000000</td>\n      <td>1.390000e+02</td>\n    </tr>\n    <tr>\n      <th>75%</th>\n      <td>635108.500000</td>\n      <td>7047.000000</td>\n      <td>314565.500000</td>\n      <td>172013.500000</td>\n      <td>344818.000000</td>\n      <td>3.520000e+02</td>\n    </tr>\n    <tr>\n      <th>max</th>\n      <td>846811.000000</td>\n      <td>12960.000000</td>\n      <td>423436.000000</td>\n      <td>255875.000000</td>\n      <td>461497.000000</td>\n      <td>1.000000e+08</td>\n    </tr>\n  </tbody>\n</table>\n</div>"
     },
     "execution_count": 5,
     "metadata": {},
     "output_type": "execute_result"
    }
   ],
   "source": [
    "ad_feat_df.describe(include='all')"
   ],
   "metadata": {
    "collapsed": false,
    "pycharm": {
     "name": "#%%\n"
    }
   }
  },
  {
   "cell_type": "code",
   "execution_count": 6,
   "outputs": [
    {
     "data": {
      "text/plain": "adgroup_id       int64\ncate_id          int64\ncampaign_id      int64\ncustomer         int64\nbrand          float64\nprice          float64\ndtype: object"
     },
     "execution_count": 6,
     "metadata": {},
     "output_type": "execute_result"
    }
   ],
   "source": [
    "ad_feat_df.dtypes"
   ],
   "metadata": {
    "collapsed": false,
    "pycharm": {
     "name": "#%%\n"
    }
   }
  },
  {
   "cell_type": "code",
   "execution_count": 7,
   "outputs": [
    {
     "data": {
      "text/plain": "adgroup_id      string\ncate_id         string\ncampaign_id     string\ncustomer        string\nbrand           string\nprice          float64\ndtype: object"
     },
     "execution_count": 7,
     "metadata": {},
     "output_type": "execute_result"
    }
   ],
   "source": [
    "ad_feat_df = ad_feat_df.astype(dtype={'adgroup_id': 'string', 'cate_id': 'string', 'campaign_id': 'string', 'customer': 'string', 'brand': 'string'}, copy=False)\n",
    "ad_feat_df.dtypes"
   ],
   "metadata": {
    "collapsed": false,
    "pycharm": {
     "name": "#%%\n"
    }
   }
  },
  {
   "cell_type": "code",
   "execution_count": 8,
   "outputs": [
    {
     "data": {
      "text/plain": "  adgroup_id cate_id campaign_id customer     brand   price\n0      63133    6406       83237        1   95471.0  170.00\n1     313401    6406       83237        1   87331.0  199.00\n2     248909     392       83237        1   32233.0   38.00\n3     208458     392       83237        1  174374.0  139.00\n4     110847    7211      135256        2  145952.0   32.99",
      "text/html": "<div>\n<style scoped>\n    .dataframe tbody tr th:only-of-type {\n        vertical-align: middle;\n    }\n\n    .dataframe tbody tr th {\n        vertical-align: top;\n    }\n\n    .dataframe thead th {\n        text-align: right;\n    }\n</style>\n<table border=\"1\" class=\"dataframe\">\n  <thead>\n    <tr style=\"text-align: right;\">\n      <th></th>\n      <th>adgroup_id</th>\n      <th>cate_id</th>\n      <th>campaign_id</th>\n      <th>customer</th>\n      <th>brand</th>\n      <th>price</th>\n    </tr>\n  </thead>\n  <tbody>\n    <tr>\n      <th>0</th>\n      <td>63133</td>\n      <td>6406</td>\n      <td>83237</td>\n      <td>1</td>\n      <td>95471.0</td>\n      <td>170.00</td>\n    </tr>\n    <tr>\n      <th>1</th>\n      <td>313401</td>\n      <td>6406</td>\n      <td>83237</td>\n      <td>1</td>\n      <td>87331.0</td>\n      <td>199.00</td>\n    </tr>\n    <tr>\n      <th>2</th>\n      <td>248909</td>\n      <td>392</td>\n      <td>83237</td>\n      <td>1</td>\n      <td>32233.0</td>\n      <td>38.00</td>\n    </tr>\n    <tr>\n      <th>3</th>\n      <td>208458</td>\n      <td>392</td>\n      <td>83237</td>\n      <td>1</td>\n      <td>174374.0</td>\n      <td>139.00</td>\n    </tr>\n    <tr>\n      <th>4</th>\n      <td>110847</td>\n      <td>7211</td>\n      <td>135256</td>\n      <td>2</td>\n      <td>145952.0</td>\n      <td>32.99</td>\n    </tr>\n  </tbody>\n</table>\n</div>"
     },
     "execution_count": 8,
     "metadata": {},
     "output_type": "execute_result"
    }
   ],
   "source": [
    "ad_feat_df.head(5)"
   ],
   "metadata": {
    "collapsed": false,
    "pycharm": {
     "name": "#%%\n"
    }
   }
  },
  {
   "cell_type": "code",
   "execution_count": 9,
   "outputs": [
    {
     "data": {
      "text/plain": "       adgroup_id cate_id campaign_id customer     brand         price\ncount      846811  846811      846811   846811    600481  8.468110e+05\nunique     846811    6769      423436   255875     99814           NaN\ntop         63133    6261      217092   115805  353787.0           NaN\nfreq            1   42691         591     1653      6553           NaN\nmean          NaN     NaN         NaN      NaN       NaN  1.838867e+03\nstd           NaN     NaN         NaN      NaN       NaN  3.108877e+05\nmin           NaN     NaN         NaN      NaN       NaN  1.000000e-02\n25%           NaN     NaN         NaN      NaN       NaN  4.900000e+01\n50%           NaN     NaN         NaN      NaN       NaN  1.390000e+02\n75%           NaN     NaN         NaN      NaN       NaN  3.520000e+02\nmax           NaN     NaN         NaN      NaN       NaN  1.000000e+08",
      "text/html": "<div>\n<style scoped>\n    .dataframe tbody tr th:only-of-type {\n        vertical-align: middle;\n    }\n\n    .dataframe tbody tr th {\n        vertical-align: top;\n    }\n\n    .dataframe thead th {\n        text-align: right;\n    }\n</style>\n<table border=\"1\" class=\"dataframe\">\n  <thead>\n    <tr style=\"text-align: right;\">\n      <th></th>\n      <th>adgroup_id</th>\n      <th>cate_id</th>\n      <th>campaign_id</th>\n      <th>customer</th>\n      <th>brand</th>\n      <th>price</th>\n    </tr>\n  </thead>\n  <tbody>\n    <tr>\n      <th>count</th>\n      <td>846811</td>\n      <td>846811</td>\n      <td>846811</td>\n      <td>846811</td>\n      <td>600481</td>\n      <td>8.468110e+05</td>\n    </tr>\n    <tr>\n      <th>unique</th>\n      <td>846811</td>\n      <td>6769</td>\n      <td>423436</td>\n      <td>255875</td>\n      <td>99814</td>\n      <td>NaN</td>\n    </tr>\n    <tr>\n      <th>top</th>\n      <td>63133</td>\n      <td>6261</td>\n      <td>217092</td>\n      <td>115805</td>\n      <td>353787.0</td>\n      <td>NaN</td>\n    </tr>\n    <tr>\n      <th>freq</th>\n      <td>1</td>\n      <td>42691</td>\n      <td>591</td>\n      <td>1653</td>\n      <td>6553</td>\n      <td>NaN</td>\n    </tr>\n    <tr>\n      <th>mean</th>\n      <td>NaN</td>\n      <td>NaN</td>\n      <td>NaN</td>\n      <td>NaN</td>\n      <td>NaN</td>\n      <td>1.838867e+03</td>\n    </tr>\n    <tr>\n      <th>std</th>\n      <td>NaN</td>\n      <td>NaN</td>\n      <td>NaN</td>\n      <td>NaN</td>\n      <td>NaN</td>\n      <td>3.108877e+05</td>\n    </tr>\n    <tr>\n      <th>min</th>\n      <td>NaN</td>\n      <td>NaN</td>\n      <td>NaN</td>\n      <td>NaN</td>\n      <td>NaN</td>\n      <td>1.000000e-02</td>\n    </tr>\n    <tr>\n      <th>25%</th>\n      <td>NaN</td>\n      <td>NaN</td>\n      <td>NaN</td>\n      <td>NaN</td>\n      <td>NaN</td>\n      <td>4.900000e+01</td>\n    </tr>\n    <tr>\n      <th>50%</th>\n      <td>NaN</td>\n      <td>NaN</td>\n      <td>NaN</td>\n      <td>NaN</td>\n      <td>NaN</td>\n      <td>1.390000e+02</td>\n    </tr>\n    <tr>\n      <th>75%</th>\n      <td>NaN</td>\n      <td>NaN</td>\n      <td>NaN</td>\n      <td>NaN</td>\n      <td>NaN</td>\n      <td>3.520000e+02</td>\n    </tr>\n    <tr>\n      <th>max</th>\n      <td>NaN</td>\n      <td>NaN</td>\n      <td>NaN</td>\n      <td>NaN</td>\n      <td>NaN</td>\n      <td>1.000000e+08</td>\n    </tr>\n  </tbody>\n</table>\n</div>"
     },
     "execution_count": 9,
     "metadata": {},
     "output_type": "execute_result"
    }
   ],
   "source": [
    "ad_feat_df.describe(include='all')"
   ],
   "metadata": {
    "collapsed": false,
    "pycharm": {
     "name": "#%%\n"
    }
   }
  },
  {
   "cell_type": "markdown",
   "source": [
    "## 用户特征"
   ],
   "metadata": {
    "collapsed": false
   }
  },
  {
   "cell_type": "code",
   "execution_count": 10,
   "outputs": [
    {
     "data": {
      "text/plain": "userid                     int64\ncms_segid                  int64\ncms_group_id               int64\nfinal_gender_code          int64\nage_level                  int64\npvalue_level             float64\nshopping_level             int64\noccupation                 int64\nnew_user_class_level     float64\ndtype: object"
     },
     "execution_count": 10,
     "metadata": {},
     "output_type": "execute_result"
    }
   ],
   "source": [
    "user_feat_df = pd.read_csv(\"C:\\\\data\\\\taobao_data\\\\user_profile.csv\")\n",
    "user_feat_df.dtypes"
   ],
   "metadata": {
    "collapsed": false,
    "pycharm": {
     "name": "#%%\n"
    }
   }
  },
  {
   "cell_type": "code",
   "execution_count": 11,
   "outputs": [
    {
     "data": {
      "text/plain": "userid                   string\ncms_segid                string\ncms_group_id             string\nfinal_gender_code        string\nage_level                string\npvalue_level             string\nshopping_level           string\noccupation               string\nnew_user_class_level     string\ndtype: object"
     },
     "execution_count": 11,
     "metadata": {},
     "output_type": "execute_result"
    }
   ],
   "source": [
    "user_feat_df = user_feat_df.astype('string')\n",
    "user_feat_df.dtypes"
   ],
   "metadata": {
    "collapsed": false,
    "pycharm": {
     "name": "#%%\n"
    }
   }
  },
  {
   "cell_type": "code",
   "execution_count": 12,
   "outputs": [
    {
     "data": {
      "text/plain": "         userid cms_segid cms_group_id final_gender_code age_level  \\\ncount   1061768   1061768      1061768           1061768   1061768   \nunique  1061768        97           13                 2         7   \ntop         234         0            3                 2         3   \nfreq          1    648381       204702            684251    307340   \n\n       pvalue_level shopping_level occupation new_user_class_level   \ncount        485851        1061768    1061768                716848  \nunique            3              3          2                     4  \ntop             2.0              3          0                   2.0  \nfreq         293656         835745    1002064                324420  ",
      "text/html": "<div>\n<style scoped>\n    .dataframe tbody tr th:only-of-type {\n        vertical-align: middle;\n    }\n\n    .dataframe tbody tr th {\n        vertical-align: top;\n    }\n\n    .dataframe thead th {\n        text-align: right;\n    }\n</style>\n<table border=\"1\" class=\"dataframe\">\n  <thead>\n    <tr style=\"text-align: right;\">\n      <th></th>\n      <th>userid</th>\n      <th>cms_segid</th>\n      <th>cms_group_id</th>\n      <th>final_gender_code</th>\n      <th>age_level</th>\n      <th>pvalue_level</th>\n      <th>shopping_level</th>\n      <th>occupation</th>\n      <th>new_user_class_level</th>\n    </tr>\n  </thead>\n  <tbody>\n    <tr>\n      <th>count</th>\n      <td>1061768</td>\n      <td>1061768</td>\n      <td>1061768</td>\n      <td>1061768</td>\n      <td>1061768</td>\n      <td>485851</td>\n      <td>1061768</td>\n      <td>1061768</td>\n      <td>716848</td>\n    </tr>\n    <tr>\n      <th>unique</th>\n      <td>1061768</td>\n      <td>97</td>\n      <td>13</td>\n      <td>2</td>\n      <td>7</td>\n      <td>3</td>\n      <td>3</td>\n      <td>2</td>\n      <td>4</td>\n    </tr>\n    <tr>\n      <th>top</th>\n      <td>234</td>\n      <td>0</td>\n      <td>3</td>\n      <td>2</td>\n      <td>3</td>\n      <td>2.0</td>\n      <td>3</td>\n      <td>0</td>\n      <td>2.0</td>\n    </tr>\n    <tr>\n      <th>freq</th>\n      <td>1</td>\n      <td>648381</td>\n      <td>204702</td>\n      <td>684251</td>\n      <td>307340</td>\n      <td>293656</td>\n      <td>835745</td>\n      <td>1002064</td>\n      <td>324420</td>\n    </tr>\n  </tbody>\n</table>\n</div>"
     },
     "execution_count": 12,
     "metadata": {},
     "output_type": "execute_result"
    }
   ],
   "source": [
    "user_feat_df.describe(include='all')"
   ],
   "metadata": {
    "collapsed": false,
    "pycharm": {
     "name": "#%%\n"
    }
   }
  },
  {
   "cell_type": "code",
   "execution_count": 13,
   "outputs": [
    {
     "data": {
      "text/plain": "  userid cms_segid cms_group_id final_gender_code age_level pvalue_level  \\\n0    234         0            5                 2         5         <NA>   \n1    523         5            2                 2         2          1.0   \n2    612         0            8                 1         2          2.0   \n3   1670         0            4                 2         4         <NA>   \n4   2545         0           10                 1         4         <NA>   \n\n  shopping_level occupation new_user_class_level   \n0              3          0                   3.0  \n1              3          1                   2.0  \n2              3          0                  <NA>  \n3              1          0                  <NA>  \n4              3          0                  <NA>  ",
      "text/html": "<div>\n<style scoped>\n    .dataframe tbody tr th:only-of-type {\n        vertical-align: middle;\n    }\n\n    .dataframe tbody tr th {\n        vertical-align: top;\n    }\n\n    .dataframe thead th {\n        text-align: right;\n    }\n</style>\n<table border=\"1\" class=\"dataframe\">\n  <thead>\n    <tr style=\"text-align: right;\">\n      <th></th>\n      <th>userid</th>\n      <th>cms_segid</th>\n      <th>cms_group_id</th>\n      <th>final_gender_code</th>\n      <th>age_level</th>\n      <th>pvalue_level</th>\n      <th>shopping_level</th>\n      <th>occupation</th>\n      <th>new_user_class_level</th>\n    </tr>\n  </thead>\n  <tbody>\n    <tr>\n      <th>0</th>\n      <td>234</td>\n      <td>0</td>\n      <td>5</td>\n      <td>2</td>\n      <td>5</td>\n      <td>&lt;NA&gt;</td>\n      <td>3</td>\n      <td>0</td>\n      <td>3.0</td>\n    </tr>\n    <tr>\n      <th>1</th>\n      <td>523</td>\n      <td>5</td>\n      <td>2</td>\n      <td>2</td>\n      <td>2</td>\n      <td>1.0</td>\n      <td>3</td>\n      <td>1</td>\n      <td>2.0</td>\n    </tr>\n    <tr>\n      <th>2</th>\n      <td>612</td>\n      <td>0</td>\n      <td>8</td>\n      <td>1</td>\n      <td>2</td>\n      <td>2.0</td>\n      <td>3</td>\n      <td>0</td>\n      <td>&lt;NA&gt;</td>\n    </tr>\n    <tr>\n      <th>3</th>\n      <td>1670</td>\n      <td>0</td>\n      <td>4</td>\n      <td>2</td>\n      <td>4</td>\n      <td>&lt;NA&gt;</td>\n      <td>1</td>\n      <td>0</td>\n      <td>&lt;NA&gt;</td>\n    </tr>\n    <tr>\n      <th>4</th>\n      <td>2545</td>\n      <td>0</td>\n      <td>10</td>\n      <td>1</td>\n      <td>4</td>\n      <td>&lt;NA&gt;</td>\n      <td>3</td>\n      <td>0</td>\n      <td>&lt;NA&gt;</td>\n    </tr>\n  </tbody>\n</table>\n</div>"
     },
     "execution_count": 13,
     "metadata": {},
     "output_type": "execute_result"
    }
   ],
   "source": [
    "user_feat_df.head(5)"
   ],
   "metadata": {
    "collapsed": false,
    "pycharm": {
     "name": "#%%\n"
    }
   }
  },
  {
   "cell_type": "markdown",
   "source": [
    "## 行为序列"
   ],
   "metadata": {
    "collapsed": false
   }
  },
  {
   "cell_type": "code",
   "execution_count": 15,
   "outputs": [
    {
     "data": {
      "text/plain": "      user  time_stamp  btag   cate   brand\n0   558157  1493741625    pv   6250   91286\n1   558157  1493741626    pv   6250   91286\n2   558157  1493741627    pv   6250   91286\n3   728690  1493776998    pv  11800   62353\n4   332634  1493809895    pv   1101  365477\n5   857237  1493816945    pv   1043  110616\n6   619381  1493774638    pv    385  428950\n7   467042  1493772641    pv   8237  301299\n8   467042  1493772644    pv   8237  301299\n9   991528  1493780710    pv   7270  274795\n10  991528  1493780712    pv   7270  274795\n11  991528  1493780712    pv   7270  274795\n12  991528  1493780712    pv   7270  274795\n13  991528  1493780714    pv   7270  274795\n14  991528  1493780765    pv   7270  274795\n15  991528  1493780714    pv   7270  274795\n16  991528  1493780765    pv   7270  274795\n17  991528  1493780764    pv   7270  274795\n18  991528  1493780633    pv   7270  274795\n19  991528  1493780764    pv   7270  274795\n20  991528  1493780633    pv   7270  274795\n21  991528  1493780661    pv   7270  274795\n22  991528  1493780661    pv   7270  274795\n23  991528  1493780707    pv   7270  274795\n24  991528  1493780707    pv   7270  274795\n25  991528  1493780712    pv   7270  274795\n26  991528  1493780710    pv   7270  274795\n27  991528  1493780710    pv   7270  274795\n28  991528  1493780710    pv   7270  274795\n29  569051  1493825225    pv   6162  321565\n30  609935  1493793815    pv  11714  450662\n31  609935  1493793801    pv  11714  450662\n32  791163  1493756004    pv   9361  217181\n33  903245  1493779460    pv   7363   79122\n34  581644  1493764064    pv   8723  182557\n35  840457  1493741837  cart   2155  355993\n36  840457  1493741844  cart   2155  355993\n37  840457  1493741847    pv   2155  355993\n38  840457  1493741862    pv   2155  355993\n39  840457  1493741862    pv   2155  355993\n40  840457  1493741851    pv   2155  355993\n41  840457  1493741850    pv   2155  355993\n42  840457  1493742163    pv   2155  355993\n43  840457  1493741829    pv   2155  355993\n44  832679  1493779415    pv   5515  245576\n45  832679  1493779468    pv   5515  245576\n46  832679  1493810640    pv   5515  245576\n47  832679  1493776857    pv   5515  245576\n48  832679  1493779300    pv   5515  245576\n49  832679  1493776906   fav   5515  245576",
      "text/html": "<div>\n<style scoped>\n    .dataframe tbody tr th:only-of-type {\n        vertical-align: middle;\n    }\n\n    .dataframe tbody tr th {\n        vertical-align: top;\n    }\n\n    .dataframe thead th {\n        text-align: right;\n    }\n</style>\n<table border=\"1\" class=\"dataframe\">\n  <thead>\n    <tr style=\"text-align: right;\">\n      <th></th>\n      <th>user</th>\n      <th>time_stamp</th>\n      <th>btag</th>\n      <th>cate</th>\n      <th>brand</th>\n    </tr>\n  </thead>\n  <tbody>\n    <tr>\n      <th>0</th>\n      <td>558157</td>\n      <td>1493741625</td>\n      <td>pv</td>\n      <td>6250</td>\n      <td>91286</td>\n    </tr>\n    <tr>\n      <th>1</th>\n      <td>558157</td>\n      <td>1493741626</td>\n      <td>pv</td>\n      <td>6250</td>\n      <td>91286</td>\n    </tr>\n    <tr>\n      <th>2</th>\n      <td>558157</td>\n      <td>1493741627</td>\n      <td>pv</td>\n      <td>6250</td>\n      <td>91286</td>\n    </tr>\n    <tr>\n      <th>3</th>\n      <td>728690</td>\n      <td>1493776998</td>\n      <td>pv</td>\n      <td>11800</td>\n      <td>62353</td>\n    </tr>\n    <tr>\n      <th>4</th>\n      <td>332634</td>\n      <td>1493809895</td>\n      <td>pv</td>\n      <td>1101</td>\n      <td>365477</td>\n    </tr>\n    <tr>\n      <th>5</th>\n      <td>857237</td>\n      <td>1493816945</td>\n      <td>pv</td>\n      <td>1043</td>\n      <td>110616</td>\n    </tr>\n    <tr>\n      <th>6</th>\n      <td>619381</td>\n      <td>1493774638</td>\n      <td>pv</td>\n      <td>385</td>\n      <td>428950</td>\n    </tr>\n    <tr>\n      <th>7</th>\n      <td>467042</td>\n      <td>1493772641</td>\n      <td>pv</td>\n      <td>8237</td>\n      <td>301299</td>\n    </tr>\n    <tr>\n      <th>8</th>\n      <td>467042</td>\n      <td>1493772644</td>\n      <td>pv</td>\n      <td>8237</td>\n      <td>301299</td>\n    </tr>\n    <tr>\n      <th>9</th>\n      <td>991528</td>\n      <td>1493780710</td>\n      <td>pv</td>\n      <td>7270</td>\n      <td>274795</td>\n    </tr>\n    <tr>\n      <th>10</th>\n      <td>991528</td>\n      <td>1493780712</td>\n      <td>pv</td>\n      <td>7270</td>\n      <td>274795</td>\n    </tr>\n    <tr>\n      <th>11</th>\n      <td>991528</td>\n      <td>1493780712</td>\n      <td>pv</td>\n      <td>7270</td>\n      <td>274795</td>\n    </tr>\n    <tr>\n      <th>12</th>\n      <td>991528</td>\n      <td>1493780712</td>\n      <td>pv</td>\n      <td>7270</td>\n      <td>274795</td>\n    </tr>\n    <tr>\n      <th>13</th>\n      <td>991528</td>\n      <td>1493780714</td>\n      <td>pv</td>\n      <td>7270</td>\n      <td>274795</td>\n    </tr>\n    <tr>\n      <th>14</th>\n      <td>991528</td>\n      <td>1493780765</td>\n      <td>pv</td>\n      <td>7270</td>\n      <td>274795</td>\n    </tr>\n    <tr>\n      <th>15</th>\n      <td>991528</td>\n      <td>1493780714</td>\n      <td>pv</td>\n      <td>7270</td>\n      <td>274795</td>\n    </tr>\n    <tr>\n      <th>16</th>\n      <td>991528</td>\n      <td>1493780765</td>\n      <td>pv</td>\n      <td>7270</td>\n      <td>274795</td>\n    </tr>\n    <tr>\n      <th>17</th>\n      <td>991528</td>\n      <td>1493780764</td>\n      <td>pv</td>\n      <td>7270</td>\n      <td>274795</td>\n    </tr>\n    <tr>\n      <th>18</th>\n      <td>991528</td>\n      <td>1493780633</td>\n      <td>pv</td>\n      <td>7270</td>\n      <td>274795</td>\n    </tr>\n    <tr>\n      <th>19</th>\n      <td>991528</td>\n      <td>1493780764</td>\n      <td>pv</td>\n      <td>7270</td>\n      <td>274795</td>\n    </tr>\n    <tr>\n      <th>20</th>\n      <td>991528</td>\n      <td>1493780633</td>\n      <td>pv</td>\n      <td>7270</td>\n      <td>274795</td>\n    </tr>\n    <tr>\n      <th>21</th>\n      <td>991528</td>\n      <td>1493780661</td>\n      <td>pv</td>\n      <td>7270</td>\n      <td>274795</td>\n    </tr>\n    <tr>\n      <th>22</th>\n      <td>991528</td>\n      <td>1493780661</td>\n      <td>pv</td>\n      <td>7270</td>\n      <td>274795</td>\n    </tr>\n    <tr>\n      <th>23</th>\n      <td>991528</td>\n      <td>1493780707</td>\n      <td>pv</td>\n      <td>7270</td>\n      <td>274795</td>\n    </tr>\n    <tr>\n      <th>24</th>\n      <td>991528</td>\n      <td>1493780707</td>\n      <td>pv</td>\n      <td>7270</td>\n      <td>274795</td>\n    </tr>\n    <tr>\n      <th>25</th>\n      <td>991528</td>\n      <td>1493780712</td>\n      <td>pv</td>\n      <td>7270</td>\n      <td>274795</td>\n    </tr>\n    <tr>\n      <th>26</th>\n      <td>991528</td>\n      <td>1493780710</td>\n      <td>pv</td>\n      <td>7270</td>\n      <td>274795</td>\n    </tr>\n    <tr>\n      <th>27</th>\n      <td>991528</td>\n      <td>1493780710</td>\n      <td>pv</td>\n      <td>7270</td>\n      <td>274795</td>\n    </tr>\n    <tr>\n      <th>28</th>\n      <td>991528</td>\n      <td>1493780710</td>\n      <td>pv</td>\n      <td>7270</td>\n      <td>274795</td>\n    </tr>\n    <tr>\n      <th>29</th>\n      <td>569051</td>\n      <td>1493825225</td>\n      <td>pv</td>\n      <td>6162</td>\n      <td>321565</td>\n    </tr>\n    <tr>\n      <th>30</th>\n      <td>609935</td>\n      <td>1493793815</td>\n      <td>pv</td>\n      <td>11714</td>\n      <td>450662</td>\n    </tr>\n    <tr>\n      <th>31</th>\n      <td>609935</td>\n      <td>1493793801</td>\n      <td>pv</td>\n      <td>11714</td>\n      <td>450662</td>\n    </tr>\n    <tr>\n      <th>32</th>\n      <td>791163</td>\n      <td>1493756004</td>\n      <td>pv</td>\n      <td>9361</td>\n      <td>217181</td>\n    </tr>\n    <tr>\n      <th>33</th>\n      <td>903245</td>\n      <td>1493779460</td>\n      <td>pv</td>\n      <td>7363</td>\n      <td>79122</td>\n    </tr>\n    <tr>\n      <th>34</th>\n      <td>581644</td>\n      <td>1493764064</td>\n      <td>pv</td>\n      <td>8723</td>\n      <td>182557</td>\n    </tr>\n    <tr>\n      <th>35</th>\n      <td>840457</td>\n      <td>1493741837</td>\n      <td>cart</td>\n      <td>2155</td>\n      <td>355993</td>\n    </tr>\n    <tr>\n      <th>36</th>\n      <td>840457</td>\n      <td>1493741844</td>\n      <td>cart</td>\n      <td>2155</td>\n      <td>355993</td>\n    </tr>\n    <tr>\n      <th>37</th>\n      <td>840457</td>\n      <td>1493741847</td>\n      <td>pv</td>\n      <td>2155</td>\n      <td>355993</td>\n    </tr>\n    <tr>\n      <th>38</th>\n      <td>840457</td>\n      <td>1493741862</td>\n      <td>pv</td>\n      <td>2155</td>\n      <td>355993</td>\n    </tr>\n    <tr>\n      <th>39</th>\n      <td>840457</td>\n      <td>1493741862</td>\n      <td>pv</td>\n      <td>2155</td>\n      <td>355993</td>\n    </tr>\n    <tr>\n      <th>40</th>\n      <td>840457</td>\n      <td>1493741851</td>\n      <td>pv</td>\n      <td>2155</td>\n      <td>355993</td>\n    </tr>\n    <tr>\n      <th>41</th>\n      <td>840457</td>\n      <td>1493741850</td>\n      <td>pv</td>\n      <td>2155</td>\n      <td>355993</td>\n    </tr>\n    <tr>\n      <th>42</th>\n      <td>840457</td>\n      <td>1493742163</td>\n      <td>pv</td>\n      <td>2155</td>\n      <td>355993</td>\n    </tr>\n    <tr>\n      <th>43</th>\n      <td>840457</td>\n      <td>1493741829</td>\n      <td>pv</td>\n      <td>2155</td>\n      <td>355993</td>\n    </tr>\n    <tr>\n      <th>44</th>\n      <td>832679</td>\n      <td>1493779415</td>\n      <td>pv</td>\n      <td>5515</td>\n      <td>245576</td>\n    </tr>\n    <tr>\n      <th>45</th>\n      <td>832679</td>\n      <td>1493779468</td>\n      <td>pv</td>\n      <td>5515</td>\n      <td>245576</td>\n    </tr>\n    <tr>\n      <th>46</th>\n      <td>832679</td>\n      <td>1493810640</td>\n      <td>pv</td>\n      <td>5515</td>\n      <td>245576</td>\n    </tr>\n    <tr>\n      <th>47</th>\n      <td>832679</td>\n      <td>1493776857</td>\n      <td>pv</td>\n      <td>5515</td>\n      <td>245576</td>\n    </tr>\n    <tr>\n      <th>48</th>\n      <td>832679</td>\n      <td>1493779300</td>\n      <td>pv</td>\n      <td>5515</td>\n      <td>245576</td>\n    </tr>\n    <tr>\n      <th>49</th>\n      <td>832679</td>\n      <td>1493776906</td>\n      <td>fav</td>\n      <td>5515</td>\n      <td>245576</td>\n    </tr>\n  </tbody>\n</table>\n</div>"
     },
     "execution_count": 15,
     "metadata": {},
     "output_type": "execute_result"
    }
   ],
   "source": [
    "user_behavior_df = pd.read_csv(\"C:\\\\data\\\\taobao_data\\\\behavior_log.csv\", iterator=True)\n",
    "user_behavior_df.read(50)\n"
   ],
   "metadata": {
    "collapsed": false,
    "pycharm": {
     "name": "#%%\n"
    }
   }
  },
  {
   "cell_type": "code",
   "execution_count": null,
   "outputs": [],
   "source": [],
   "metadata": {
    "collapsed": false,
    "pycharm": {
     "name": "#%%\n"
    }
   }
  }
 ],
 "metadata": {
  "kernelspec": {
   "name": "python3",
   "language": "python",
   "display_name": "Python 3 (ipykernel)"
  },
  "language_info": {
   "codemirror_mode": {
    "name": "ipython",
    "version": 2
   },
   "file_extension": ".py",
   "mimetype": "text/x-python",
   "name": "python",
   "nbconvert_exporter": "python",
   "pygments_lexer": "ipython2",
   "version": "2.7.6"
  }
 },
 "nbformat": 4,
 "nbformat_minor": 0
}